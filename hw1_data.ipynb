{
 "metadata": {
  "name": ""
 },
 "nbformat": 3,
 "nbformat_minor": 0,
 "worksheets": [
  {
   "cells": [
    {
     "cell_type": "markdown",
     "metadata": {},
     "source": [
      "First import the [pandas](http://pandas.pydata.org/) library"
     ]
    },
    {
     "cell_type": "code",
     "collapsed": false,
     "input": [
      "import pandas as pd"
     ],
     "language": "python",
     "metadata": {},
     "outputs": [],
     "prompt_number": 1
    },
    {
     "cell_type": "markdown",
     "metadata": {},
     "source": [
      "Next, read in the csv file. I am working with all my files in the same directory, so I just give it the filename as opposed to a complete path."
     ]
    },
    {
     "cell_type": "code",
     "collapsed": false,
     "input": [
      "df = pd.read_csv('hw1_data.csv')"
     ],
     "language": "python",
     "metadata": {},
     "outputs": [],
     "prompt_number": 2
    },
    {
     "cell_type": "markdown",
     "metadata": {},
     "source": [
      "Now we are ready to answer the questions"
     ]
    },
    {
     "cell_type": "heading",
     "level": 2,
     "metadata": {},
     "source": [
      "Questions 1: What are the column names of the dataset?"
     ]
    },
    {
     "cell_type": "code",
     "collapsed": false,
     "input": [
      "df.columns"
     ],
     "language": "python",
     "metadata": {},
     "outputs": [
      {
       "metadata": {},
       "output_type": "pyout",
       "prompt_number": 3,
       "text": [
        "Index([Ozone, Solar.R, Wind, Temp, Month, Day], dtype=object)"
       ]
      }
     ],
     "prompt_number": 3
    },
    {
     "cell_type": "heading",
     "level": 2,
     "metadata": {},
     "source": [
      "Question 2: Extract the first 2 rows of the data frame and print them to the console. What does the output look like?"
     ]
    },
    {
     "cell_type": "code",
     "collapsed": false,
     "input": [
      "df[0:2]"
     ],
     "language": "python",
     "metadata": {},
     "outputs": [
      {
       "metadata": {},
       "output_type": "pyout",
       "prompt_number": 4,
       "text": [
        "   Ozone  Solar.R  Wind  Temp  Month  Day\n",
        "0     41      190   7.4    67      5    1\n",
        "1     36      118   8.0    72      5    2"
       ]
      }
     ],
     "prompt_number": 4
    },
    {
     "cell_type": "heading",
     "level": 2,
     "metadata": {},
     "source": [
      "Question 3: How many observations (i.e. rows) are in this data frame?"
     ]
    },
    {
     "cell_type": "code",
     "collapsed": false,
     "input": [
      "rows,cols = df.shape\n",
      "print rows"
     ],
     "language": "python",
     "metadata": {},
     "outputs": [
      {
       "output_type": "stream",
       "stream": "stdout",
       "text": [
        "153\n"
       ]
      }
     ],
     "prompt_number": 5
    },
    {
     "cell_type": "heading",
     "level": 2,
     "metadata": {},
     "source": [
      "Question 4: Extract the *last* 2 rows of the data frame and print them to the console. What does the output look like?"
     ]
    },
    {
     "cell_type": "markdown",
     "metadata": {},
     "source": [
      "It's worth pointing out that pandas DataFrames are zeor-indexed, so although there are 153 elements, the last row is identified as 152 in this data set."
     ]
    },
    {
     "cell_type": "code",
     "collapsed": false,
     "input": [
      "df[-2:]"
     ],
     "language": "python",
     "metadata": {},
     "outputs": [
      {
       "metadata": {},
       "output_type": "pyout",
       "prompt_number": 6,
       "text": [
        "     Ozone  Solar.R  Wind  Temp  Month  Day\n",
        "151     18      131   8.0    76      9   29\n",
        "152     20      223  11.5    68      9   30"
       ]
      }
     ],
     "prompt_number": 6
    },
    {
     "cell_type": "heading",
     "level": 2,
     "metadata": {},
     "source": [
      "Question 5: What is the value of Ozone in the 47th row?"
     ]
    },
    {
     "cell_type": "markdown",
     "metadata": {},
     "source": [
      "Again, because pandas is zero-indexed, the 47th row has an integer value of `46`"
     ]
    },
    {
     "cell_type": "code",
     "collapsed": false,
     "input": [
      "df.irow(46)"
     ],
     "language": "python",
     "metadata": {},
     "outputs": [
      {
       "metadata": {},
       "output_type": "pyout",
       "prompt_number": 7,
       "text": [
        "Ozone       21.0\n",
        "Solar.R    191.0\n",
        "Wind        14.9\n",
        "Temp        77.0\n",
        "Month        6.0\n",
        "Day         16.0\n",
        "Name: 46"
       ]
      }
     ],
     "prompt_number": 7
    },
    {
     "cell_type": "markdown",
     "metadata": {},
     "source": [
      "If we wanted to get the Ozone value more directly, we can do that too:"
     ]
    },
    {
     "cell_type": "code",
     "collapsed": false,
     "input": [
      "df.Ozone[46]"
     ],
     "language": "python",
     "metadata": {},
     "outputs": [
      {
       "metadata": {},
       "output_type": "pyout",
       "prompt_number": 8,
       "text": [
        "21.0"
       ]
      }
     ],
     "prompt_number": 8
    },
    {
     "cell_type": "heading",
     "level": 2,
     "metadata": {},
     "source": [
      "Question 6: How many missing values are in the Ozone column of this data frame?"
     ]
    },
    {
     "cell_type": "markdown",
     "metadata": {},
     "source": [
      "The `count` function only counts values that are valid."
     ]
    },
    {
     "cell_type": "code",
     "collapsed": false,
     "input": [
      "valid = df.Ozone.count()\n",
      "invalid = rows - valid #the rows variable was defined in Question 3\n",
      "print invalid"
     ],
     "language": "python",
     "metadata": {},
     "outputs": [
      {
       "output_type": "stream",
       "stream": "stdout",
       "text": [
        "37\n"
       ]
      }
     ],
     "prompt_number": 9
    },
    {
     "cell_type": "heading",
     "level": 2,
     "metadata": {},
     "source": [
      "Question 7: What is the mean of the Ozone column in this dataset? Exclude missing values (coded as NA) from this calculation."
     ]
    },
    {
     "cell_type": "code",
     "collapsed": false,
     "input": [
      "df.Ozone.mean()"
     ],
     "language": "python",
     "metadata": {},
     "outputs": [
      {
       "metadata": {},
       "output_type": "pyout",
       "prompt_number": 10,
       "text": [
        "42.129310344827587"
       ]
      }
     ],
     "prompt_number": 10
    },
    {
     "cell_type": "heading",
     "level": 2,
     "metadata": {},
     "source": [
      "Question 8: Extract the subset of rows of the data frame where Ozone values are above 31 and Temp values are above 90. What is the mean of Solar.R in this subset?"
     ]
    },
    {
     "cell_type": "markdown",
     "metadata": {},
     "source": [
      "Note here that I use the `df['Solar.R']` notation. This is because the parameter name contains a `'.'`. Pandas can't parse this so it is unavailable using the `df.parameter_name convention`."
     ]
    },
    {
     "cell_type": "code",
     "collapsed": false,
     "input": [
      "thresh = (df.Ozone > 31) & (df.Temp > 90)\n",
      "df['Solar.R'][thresh].mean()"
     ],
     "language": "python",
     "metadata": {},
     "outputs": [
      {
       "metadata": {},
       "output_type": "pyout",
       "prompt_number": 11,
       "text": [
        "212.80000000000001"
       ]
      }
     ],
     "prompt_number": 11
    },
    {
     "cell_type": "heading",
     "level": 2,
     "metadata": {},
     "source": [
      "Question 9: What is the mean of \"Temp\" when \"Month\" is equal to 6? "
     ]
    },
    {
     "cell_type": "code",
     "collapsed": false,
     "input": [
      "df[df.Month==6].Temp.mean()"
     ],
     "language": "python",
     "metadata": {},
     "outputs": [
      {
       "metadata": {},
       "output_type": "pyout",
       "prompt_number": 12,
       "text": [
        "79.099999999999994"
       ]
      }
     ],
     "prompt_number": 12
    },
    {
     "cell_type": "heading",
     "level": 2,
     "metadata": {},
     "source": [
      "Question 10: What was the maximum ozone value in the month of May (i.e. Month = 5)?"
     ]
    },
    {
     "cell_type": "code",
     "collapsed": false,
     "input": [
      "df[df.Month==5].Ozone.max()"
     ],
     "language": "python",
     "metadata": {},
     "outputs": [
      {
       "metadata": {},
       "output_type": "pyout",
       "prompt_number": 13,
       "text": [
        "115.0"
       ]
      }
     ],
     "prompt_number": 13
    }
   ],
   "metadata": {}
  }
 ]
}