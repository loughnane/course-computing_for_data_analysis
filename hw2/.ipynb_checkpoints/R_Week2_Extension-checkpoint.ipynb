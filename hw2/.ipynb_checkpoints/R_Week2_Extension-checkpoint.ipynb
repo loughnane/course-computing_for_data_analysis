{
 "metadata": {
  "name": ""
 },
 "nbformat": 3,
 "nbformat_minor": 0,
 "worksheets": [
  {
   "cells": [
    {
     "cell_type": "code",
     "collapsed": false,
     "input": [
      "import timeit\n",
      "\n",
      "def Unique(to_be_checked):\n",
      "    working = to_be_checked\n",
      "    vector_out = [working[0]]\n",
      "    for i in working:\n",
      "        not_found = True\n",
      "        for j in vector_out:\n",
      "            if i == j:\n",
      "                not_found = False\n",
      "                break # stop the loop if equal\n",
      "        if not_found:\n",
      "            if i == i:  # test for NaN\n",
      "                vector_out.append(i)\n",
      "    return(vector_out)\n",
      "\n",
      "\n",
      "\n",
      "\n",
      "if __name__ == '__main__':\n",
      "    import timeit\n",
      "    \n",
      "    to_be_checked = [1,2,3,4,5,6,7,8,9,0,8,7,5,5,5,7,8,9,0,2]\n",
      "    print(Unique(to_be_checked))\n",
      "    \n",
      "\n",
      "    print(timeit.timeit(\"Unique([1,2,3,4,5,6,7,8,9,0,8,7,5,5,5,7,8,9,0,2])\", setup=\"from __main__ import Unique\", number=10000))\n"
     ],
     "language": "python",
     "metadata": {},
     "outputs": [
      {
       "output_type": "stream",
       "stream": "stdout",
       "text": [
        "[1, 2, 3, 4, 5, 6, 7, 8, 9, 0]\n",
        "0.0563740730286"
       ]
      },
      {
       "output_type": "stream",
       "stream": "stdout",
       "text": [
        "\n"
       ]
      }
     ],
     "prompt_number": 47
    },
    {
     "cell_type": "code",
     "collapsed": false,
     "input": [],
     "language": "python",
     "metadata": {},
     "outputs": [],
     "prompt_number": 45
    },
    {
     "cell_type": "code",
     "collapsed": false,
     "input": [
      "import timeit\n",
      "import numpy\n",
      "\n",
      "def Unique(to_be_checked):\n",
      "    working = to_be_checked\n",
      "    vector_out = [working[0]]\n",
      "    for i in working:\n",
      "        not_found = True\n",
      "        for j in vector_out:\n",
      "            if i == j:\n",
      "                not_found = False\n",
      "                break # stop the loop if equal\n",
      "        if not_found:\n",
      "            if i == i:  # test for NaN\n",
      "                vector_out.append(i)\n",
      "    return(vector_out)\n",
      "\n",
      "\n",
      "\n",
      "\n",
      "if __name__ == '__main__':\n",
      "    import timeit\n",
      "    \n",
      "    to_be_checked = [1,2,3,4,5,6,7,8,9,0,8,7,5,5,5,7,8,9,0,2]\n",
      "    print(Unique(to_be_checked))\n",
      "    \n",
      "\n",
      "    print(timeit.timeit(\"Unique([1,2,3,4,5,6,7,8,9,0,8,7,5,5,5,7,8,9,0,2])\", setup=\"from __main__ import Unique\", number=10000))\n"
     ],
     "language": "python",
     "metadata": {},
     "outputs": [
      {
       "output_type": "stream",
       "stream": "stdout",
       "text": [
        "[1, 2, 3, 4, 5, 6, 7, 8, 9, 0]\n",
        "0.0573978424072"
       ]
      },
      {
       "output_type": "stream",
       "stream": "stdout",
       "text": [
        "\n"
       ]
      }
     ],
     "prompt_number": 46
    },
    {
     "cell_type": "code",
     "collapsed": false,
     "input": [],
     "language": "python",
     "metadata": {},
     "outputs": []
    }
   ],
   "metadata": {}
  }
 ]
}