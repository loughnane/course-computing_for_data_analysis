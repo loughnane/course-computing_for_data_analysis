{
 "metadata": {
  "name": ""
 },
 "nbformat": 3,
 "nbformat_minor": 0,
 "worksheets": [
  {
   "cells": [
    {
     "cell_type": "heading",
     "level": 1,
     "metadata": {},
     "source": [
      "Introduction"
     ]
    },
    {
     "cell_type": "markdown",
     "metadata": {},
     "source": [
      "The zip file containing the data can be found in this repository:\n",
      "\n",
      "* specdata.zip [2.4MB] \n",
      "\n",
      "The zip file contains 332 comma-separated-value (CSV) files containing pollution monitoring data for fine particulate matter (PM) air pollution at 332 locations in the United States. Each file contains data from a single monitor and the ID number for each monitor is contained in the file name. For example, data for monitor 200 is contained in the file \"200.csv\". Each file contains three variables:\n",
      "\n",
      "* Date: the date of the observation in YYYY-MM-DD format (year-month-day)\n",
      "* sulfate: the level of sulfate PM in the air on that date (measured in micrograms per cubic meter)\n",
      "* nitrate: the level of nitrate PM in the air on that date (measured in micrograms per cubic meter)\n",
      "\n",
      "For this programming assignment you will need to unzip this file and create the directory 'specdata'. Once you have unzipped the zip file, do not make any modifications to the files in the 'specdata' directory. In each file you'll notice that there are many days where either sulfate or nitrate (or both) are missing (coded as NA). This is common with air pollution monitoring data in the United States. "
     ]
    },
    {
     "cell_type": "heading",
     "level": 1,
     "metadata": {},
     "source": [
      "Part 1"
     ]
    },
    {
     "cell_type": "markdown",
     "metadata": {},
     "source": [
      "Write a function named 'getmonitor' that takes three arguments: 'id', 'directory', and 'summarize'. Given a monitor ID number, 'getmonitor' reads that monitor's particulate matter data from the directory specified in the 'directory' argument and returns a data frame containing that monitor's data. If 'summarize = TRUE', then 'getmonitor' produces a summary of the data frame with the 'summary' function and prints it to the console. A prototype of the function is as follows\n",
      "\n"
     ]
    },
    {
     "cell_type": "code",
     "collapsed": false,
     "input": [
      "import pandas as pd #import the pandas library"
     ],
     "language": "python",
     "metadata": {},
     "outputs": [],
     "prompt_number": 1
    },
    {
     "cell_type": "code",
     "collapsed": false,
     "input": [
      "#we are going to be referencing the 'specdata' directory a lot. This is my complete path\n",
      "specdata = '/home/chris/Documents/courses/computing_for_data_analysis/hw2/specdata/'"
     ],
     "language": "python",
     "metadata": {},
     "outputs": [],
     "prompt_number": 2
    },
    {
     "cell_type": "code",
     "collapsed": false,
     "input": [
      "def getmonitor(monitor_id,directory,summarize=False):\n",
      "    df = pd.read_csv('{}{}.csv'.format(directory,monitor_id)) #read the \n",
      "    if summarize:\n",
      "        print df.describe()\n",
      "    return df.describe()\n",
      "    "
     ],
     "language": "python",
     "metadata": {},
     "outputs": [],
     "prompt_number": 3
    },
    {
     "cell_type": "code",
     "collapsed": false,
     "input": [
      "df = getmonitor('101',specdata,summarize=True)"
     ],
     "language": "python",
     "metadata": {},
     "outputs": [
      {
       "output_type": "stream",
       "stream": "stdout",
       "text": [
        "         sulfate    nitrate   ID\n",
        "count  64.000000  64.000000  730\n",
        "mean    6.266719   2.267859  101\n",
        "std     4.731371   2.630934    0\n",
        "min     1.700000   0.249000  101\n",
        "25%     3.062500   0.618250  101\n",
        "50%     4.345000   1.050000  101\n",
        "75%     7.435000   2.782500  101\n",
        "max    22.100000  10.800000  101\n"
       ]
      }
     ],
     "prompt_number": 4
    },
    {
     "cell_type": "code",
     "collapsed": false,
     "input": [
      "df.head()"
     ],
     "language": "python",
     "metadata": {},
     "outputs": [
      {
       "html": [
        "<div style=\"max-height:1000px;max-width:1500px;overflow:auto;\">\n",
        "<table border=\"1\" class=\"dataframe\">\n",
        "  <thead>\n",
        "    <tr style=\"text-align: right;\">\n",
        "      <th></th>\n",
        "      <th>sulfate</th>\n",
        "      <th>nitrate</th>\n",
        "      <th>ID</th>\n",
        "    </tr>\n",
        "  </thead>\n",
        "  <tbody>\n",
        "    <tr>\n",
        "      <th>count</th>\n",
        "      <td> 64.000000</td>\n",
        "      <td> 64.000000</td>\n",
        "      <td> 730</td>\n",
        "    </tr>\n",
        "    <tr>\n",
        "      <th>mean</th>\n",
        "      <td>  6.266719</td>\n",
        "      <td>  2.267859</td>\n",
        "      <td> 101</td>\n",
        "    </tr>\n",
        "    <tr>\n",
        "      <th>std</th>\n",
        "      <td>  4.731371</td>\n",
        "      <td>  2.630934</td>\n",
        "      <td>   0</td>\n",
        "    </tr>\n",
        "    <tr>\n",
        "      <th>min</th>\n",
        "      <td>  1.700000</td>\n",
        "      <td>  0.249000</td>\n",
        "      <td> 101</td>\n",
        "    </tr>\n",
        "    <tr>\n",
        "      <th>25%</th>\n",
        "      <td>  3.062500</td>\n",
        "      <td>  0.618250</td>\n",
        "      <td> 101</td>\n",
        "    </tr>\n",
        "  </tbody>\n",
        "</table>\n",
        "</div>"
       ],
       "metadata": {},
       "output_type": "pyout",
       "prompt_number": 5,
       "text": [
        "         sulfate    nitrate   ID\n",
        "count  64.000000  64.000000  730\n",
        "mean    6.266719   2.267859  101\n",
        "std     4.731371   2.630934    0\n",
        "min     1.700000   0.249000  101\n",
        "25%     3.062500   0.618250  101"
       ]
      }
     ],
     "prompt_number": 5
    },
    {
     "cell_type": "code",
     "collapsed": false,
     "input": [
      "df = getmonitor(\"200\",specdata,True)"
     ],
     "language": "python",
     "metadata": {},
     "outputs": [
      {
       "output_type": "stream",
       "stream": "stdout",
       "text": [
        "          sulfate     nitrate    ID\n",
        "count  460.000000  464.000000  3652\n",
        "mean     4.390778    2.002763   200\n",
        "std      3.356288    1.926246     0\n",
        "min      0.741000    0.144000   200\n",
        "25%      2.180000    0.704000   200\n",
        "50%      3.275000    1.300000   200\n",
        "75%      5.227500    2.605000   200\n",
        "max     22.900000   14.800000   200\n"
       ]
      }
     ],
     "prompt_number": 6
    },
    {
     "cell_type": "heading",
     "level": 1,
     "metadata": {},
     "source": [
      "Part 2"
     ]
    },
    {
     "cell_type": "markdown",
     "metadata": {},
     "source": [
      "Write a function that reads a directory full of files and reports the number of completely observed cases in each data file. The function should return a data frame where the first column is the name of the file and the second column is the number of complete cases."
     ]
    },
    {
     "cell_type": "code",
     "collapsed": false,
     "input": [
      "import os\n",
      "import string"
     ],
     "language": "python",
     "metadata": {},
     "outputs": [],
     "prompt_number": 7
    },
    {
     "cell_type": "code",
     "collapsed": false,
     "input": [
      "def complete(directory,filenames = range(1,332)):\n",
      "    filenames = [str(filenames)] if not isinstance(filenames,list) else filenames # if a string is passed, make it a list of length 1\n",
      "    ID = [string.zfill(str(filename).split('.')[0],3) for filename in filenames] #create a list of filenames where all the names have leading zeros\n",
      "    nobs = [pd.read_csv(directory+i+'.csv').sulfate.count() for i in ID] #create a list of the data counts for each file\n",
      "    return pd.DataFrame({'ID':ID,'nobs':nobs}) #return a dataframe, constructed from a dictionary, with the ID and # of observations\n",
      "    \n",
      "        "
     ],
     "language": "python",
     "metadata": {},
     "outputs": [],
     "prompt_number": 8
    },
    {
     "cell_type": "code",
     "collapsed": false,
     "input": [
      "complete(specdata,1)"
     ],
     "language": "python",
     "metadata": {},
     "outputs": [
      {
       "html": [
        "<div style=\"max-height:1000px;max-width:1500px;overflow:auto;\">\n",
        "<table border=\"1\" class=\"dataframe\">\n",
        "  <thead>\n",
        "    <tr style=\"text-align: right;\">\n",
        "      <th></th>\n",
        "      <th>ID</th>\n",
        "      <th>nobs</th>\n",
        "    </tr>\n",
        "  </thead>\n",
        "  <tbody>\n",
        "    <tr>\n",
        "      <th>0</th>\n",
        "      <td> 001</td>\n",
        "      <td> 117</td>\n",
        "    </tr>\n",
        "  </tbody>\n",
        "</table>\n",
        "</div>"
       ],
       "metadata": {},
       "output_type": "pyout",
       "prompt_number": 9,
       "text": [
        "    ID  nobs\n",
        "0  001   117"
       ]
      }
     ],
     "prompt_number": 9
    },
    {
     "cell_type": "code",
     "collapsed": false,
     "input": [
      "complete(specdata,[2,4,8,10,12])"
     ],
     "language": "python",
     "metadata": {},
     "outputs": [
      {
       "html": [
        "<div style=\"max-height:1000px;max-width:1500px;overflow:auto;\">\n",
        "<table border=\"1\" class=\"dataframe\">\n",
        "  <thead>\n",
        "    <tr style=\"text-align: right;\">\n",
        "      <th></th>\n",
        "      <th>ID</th>\n",
        "      <th>nobs</th>\n",
        "    </tr>\n",
        "  </thead>\n",
        "  <tbody>\n",
        "    <tr>\n",
        "      <th>0</th>\n",
        "      <td> 002</td>\n",
        "      <td> 1041</td>\n",
        "    </tr>\n",
        "    <tr>\n",
        "      <th>1</th>\n",
        "      <td> 004</td>\n",
        "      <td>  474</td>\n",
        "    </tr>\n",
        "    <tr>\n",
        "      <th>2</th>\n",
        "      <td> 008</td>\n",
        "      <td>  192</td>\n",
        "    </tr>\n",
        "    <tr>\n",
        "      <th>3</th>\n",
        "      <td> 010</td>\n",
        "      <td>  148</td>\n",
        "    </tr>\n",
        "    <tr>\n",
        "      <th>4</th>\n",
        "      <td> 012</td>\n",
        "      <td>   96</td>\n",
        "    </tr>\n",
        "  </tbody>\n",
        "</table>\n",
        "</div>"
       ],
       "metadata": {},
       "output_type": "pyout",
       "prompt_number": 10,
       "text": [
        "    ID  nobs\n",
        "0  002  1041\n",
        "1  004   474\n",
        "2  008   192\n",
        "3  010   148\n",
        "4  012    96"
       ]
      }
     ],
     "prompt_number": 10
    },
    {
     "cell_type": "code",
     "collapsed": false,
     "input": [
      "id_range=range(25,31)\n",
      "id_range.reverse()\n",
      "complete(specdata,id_range)"
     ],
     "language": "python",
     "metadata": {},
     "outputs": [
      {
       "html": [
        "<div style=\"max-height:1000px;max-width:1500px;overflow:auto;\">\n",
        "<table border=\"1\" class=\"dataframe\">\n",
        "  <thead>\n",
        "    <tr style=\"text-align: right;\">\n",
        "      <th></th>\n",
        "      <th>ID</th>\n",
        "      <th>nobs</th>\n",
        "    </tr>\n",
        "  </thead>\n",
        "  <tbody>\n",
        "    <tr>\n",
        "      <th>0</th>\n",
        "      <td> 030</td>\n",
        "      <td> 932</td>\n",
        "    </tr>\n",
        "    <tr>\n",
        "      <th>1</th>\n",
        "      <td> 029</td>\n",
        "      <td> 711</td>\n",
        "    </tr>\n",
        "    <tr>\n",
        "      <th>2</th>\n",
        "      <td> 028</td>\n",
        "      <td> 479</td>\n",
        "    </tr>\n",
        "    <tr>\n",
        "      <th>3</th>\n",
        "      <td> 027</td>\n",
        "      <td> 338</td>\n",
        "    </tr>\n",
        "    <tr>\n",
        "      <th>4</th>\n",
        "      <td> 026</td>\n",
        "      <td> 586</td>\n",
        "    </tr>\n",
        "    <tr>\n",
        "      <th>5</th>\n",
        "      <td> 025</td>\n",
        "      <td> 465</td>\n",
        "    </tr>\n",
        "  </tbody>\n",
        "</table>\n",
        "</div>"
       ],
       "metadata": {},
       "output_type": "pyout",
       "prompt_number": 11,
       "text": [
        "    ID  nobs\n",
        "0  030   932\n",
        "1  029   711\n",
        "2  028   479\n",
        "3  027   338\n",
        "4  026   586\n",
        "5  025   465"
       ]
      }
     ],
     "prompt_number": 11
    },
    {
     "cell_type": "code",
     "collapsed": false,
     "input": [
      "complete(specdata,3)"
     ],
     "language": "python",
     "metadata": {},
     "outputs": [
      {
       "html": [
        "<div style=\"max-height:1000px;max-width:1500px;overflow:auto;\">\n",
        "<table border=\"1\" class=\"dataframe\">\n",
        "  <thead>\n",
        "    <tr style=\"text-align: right;\">\n",
        "      <th></th>\n",
        "      <th>ID</th>\n",
        "      <th>nobs</th>\n",
        "    </tr>\n",
        "  </thead>\n",
        "  <tbody>\n",
        "    <tr>\n",
        "      <th>0</th>\n",
        "      <td> 003</td>\n",
        "      <td> 243</td>\n",
        "    </tr>\n",
        "  </tbody>\n",
        "</table>\n",
        "</div>"
       ],
       "metadata": {},
       "output_type": "pyout",
       "prompt_number": 12,
       "text": [
        "    ID  nobs\n",
        "0  003   243"
       ]
      }
     ],
     "prompt_number": 12
    },
    {
     "cell_type": "heading",
     "level": 1,
     "metadata": {},
     "source": [
      "Part 3"
     ]
    },
    {
     "cell_type": "markdown",
     "metadata": {},
     "source": [
      "Write a function that takes a directory of data files and a threshold for complete cases and calculates the correlation between sulfate and nitrate for monitor locations where the number of completely observed cases (on all variables) is greater than the threshold. The function should return a vector of correlations for the monitors that meet the threshold requirement. If no monitors meet the threshold requirement, then the function should return a numeric vector of length 0."
     ]
    },
    {
     "cell_type": "code",
     "collapsed": false,
     "input": [
      "def corr(directory,threshold=0):\n",
      "    data_files = [data_file for data_file in os.listdir(directory)] #get all the files from the directory\n",
      "    data_files.sort() #make sure the list of files is sorted\n",
      "    corrs = [] #create a dictionary that will hold our correlations\n",
      "    index = []\n",
      "    \n",
      "    for data_file in data_files: #go through each data file\n",
      "        name = data_file.split('.')[0] #get the name of the file, sans the CSV\n",
      "        df = pd.read_csv(''.join((directory,data_file))) #read the csv in as a dataframe\n",
      "        if min(df['sulfate'].count(),df['nitrate'].count())>threshold: # if the min # of observations is less than threshold...\n",
      "            index.append(name)\n",
      "            corrs.append(df.corr()['sulfate']['nitrate'])\n",
      "    return pd.DataFrame(data=corrs,index=index)"
     ],
     "language": "python",
     "metadata": {},
     "outputs": [],
     "prompt_number": 13
    },
    {
     "cell_type": "heading",
     "level": 2,
     "metadata": {},
     "source": [
      "Sample Output"
     ]
    },
    {
     "cell_type": "code",
     "collapsed": false,
     "input": [
      "cr = corr(specdata,threshold=150)\n",
      "cr.head(),cr.describe()"
     ],
     "language": "python",
     "metadata": {},
     "outputs": [
      {
       "metadata": {},
       "output_type": "pyout",
       "prompt_number": 14,
       "text": [
        "(            0\n",
        "002 -0.018958\n",
        "003 -0.140513\n",
        "004 -0.043897\n",
        "005 -0.068160\n",
        "006 -0.123507,\n",
        "                 0\n",
        "count  234.000000\n",
        "mean     0.125253\n",
        "std      0.218957\n",
        "min     -0.210568\n",
        "25%     -0.049993\n",
        "50%      0.094626\n",
        "75%      0.268445\n",
        "max      0.763129)"
       ]
      }
     ],
     "prompt_number": 14
    },
    {
     "cell_type": "code",
     "collapsed": false,
     "input": [
      "cr = corr(specdata,threshold=400)\n",
      "cr.head(),cr.describe()"
     ],
     "language": "python",
     "metadata": {},
     "outputs": [
      {
       "metadata": {},
       "output_type": "pyout",
       "prompt_number": 15,
       "text": [
        "(            0\n",
        "002 -0.018958\n",
        "004 -0.043897\n",
        "005 -0.068160\n",
        "007 -0.075888\n",
        "011  0.763129,\n",
        "                 0\n",
        "count  127.000000\n",
        "mean     0.139686\n",
        "std      0.210523\n",
        "min     -0.176233\n",
        "25%     -0.031093\n",
        "50%      0.100212\n",
        "75%      0.268492\n",
        "max      0.763129)"
       ]
      }
     ],
     "prompt_number": 15
    },
    {
     "cell_type": "code",
     "collapsed": false,
     "input": [
      "cr = corr(specdata,threshold=5000)\n",
      "cr.head(),cr.describe()"
     ],
     "language": "python",
     "metadata": {},
     "outputs": [
      {
       "metadata": {},
       "output_type": "pyout",
       "prompt_number": 16,
       "text": [
        "(Empty DataFrame\n",
        "Columns: []\n",
        "Index: [], Empty DataFrame\n",
        "Columns: []\n",
        "Index: [])"
       ]
      }
     ],
     "prompt_number": 16
    },
    {
     "cell_type": "code",
     "collapsed": false,
     "input": [
      "cr = corr(specdata)\n",
      "cr.head(),cr.describe()"
     ],
     "language": "python",
     "metadata": {},
     "outputs": [
      {
       "metadata": {},
       "output_type": "pyout",
       "prompt_number": 17,
       "text": [
        "(            0\n",
        "001 -0.222553\n",
        "002 -0.018958\n",
        "003 -0.140513\n",
        "004 -0.043897\n",
        "005 -0.068160,\n",
        "                 0\n",
        "count  323.000000\n",
        "mean     0.136840\n",
        "std      0.258536\n",
        "min     -1.000000\n",
        "25%     -0.052822\n",
        "50%      0.107185\n",
        "75%      0.278309\n",
        "max      1.000000)"
       ]
      }
     ],
     "prompt_number": 17
    }
   ],
   "metadata": {}
  }
 ]
}